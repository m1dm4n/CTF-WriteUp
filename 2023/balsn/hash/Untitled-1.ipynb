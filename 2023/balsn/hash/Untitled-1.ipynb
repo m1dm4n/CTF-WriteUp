{
 "cells": [
  {
   "cell_type": "code",
   "execution_count": 37,
   "metadata": {},
   "outputs": [
    {
     "data": {
      "text/plain": [
       "(2029414812, 888298090, 2441906640)"
      ]
     },
     "execution_count": 37,
     "metadata": {},
     "output_type": "execute_result"
    }
   ],
   "source": [
    "from sage.all import *\n",
    "from sage.modules.free_module_integer import IntegerLattice\n",
    "from sympy import N, Float, Point, Point2D, Triangle\n",
    "import sys\n",
    "def dps_to_prec(n):\n",
    "    \"\"\"Return the number of bits required to represent n decimals\n",
    "    accurately.\"\"\"\n",
    "    return max(1, int(round((int(n)+1)*3.3219280948873626)))\n",
    "PRECISION = 1337\n",
    "PRECISION_B = dps_to_prec(1337)\n",
    "\n",
    "D = 2**PRECISION_B\n",
    "R = RealField(PRECISION_B)\n",
    "def create_lattice(pr, shifts, monomials=None, sort_shifts_reverse=False, sort_monomials_reverse=False):\n",
    "    if monomials == None:\n",
    "        monomials = set()\n",
    "        for shift in shifts:\n",
    "            monomials.update(shift.monomials())\n",
    "\n",
    "    shifts.sort(reverse=sort_shifts_reverse)\n",
    "    monomials = sorted(monomials, reverse=sort_monomials_reverse)\n",
    "    L = matrix(pr.base_ring(), len(shifts), len(monomials))\n",
    "    for row, shift in enumerate(shifts):\n",
    "        for col, monomial in enumerate(monomials):\n",
    "            L[row, col] = shift.monomial_coefficient(monomial)\n",
    "    return L, monomials\n",
    "def randFloat():\n",
    "    return -1 + 2 * R(getrandbits(PRECISION)) / (1 << PRECISION)\n",
    "def lift(x):\n",
    "    return (x*D).round()\n",
    "\n",
    "class RandomLine:\n",
    "    def __init__(self):\n",
    "        self.x = randFloat()\n",
    "        self.y = randFloat()\n",
    "        self.dx = randFloat()\n",
    "        self.dy = randFloat()\n",
    "\n",
    "    def __getitem__(self, i):\n",
    "        return Point(self.x + self.dx * i, self.y + self.dy * i, evaluate=False)\n",
    "\n",
    "    def print(self):\n",
    "        print(self.x)\n",
    "        print(self.y)\n",
    "        print(self.dx)\n",
    "        print(self.dy)\n",
    "A = RandomLine()\n",
    "B = RandomLine()\n",
    "C = RandomLine()\n",
    "# A.print()\n",
    "# B.print()\n",
    "# C.print()\n",
    "i, j, k =[getrandbits(32) for _ in range(3)]\n",
    "T = Triangle(A[i], B[j], C[k], evaluate=False)\n",
    "AA = A[i]\n",
    "BB = B[j]\n",
    "CC = C[k]\n",
    "i, j, k"
   ]
  },
  {
   "cell_type": "code",
   "execution_count": 38,
   "metadata": {},
   "outputs": [
    {
     "data": {
      "text/plain": [
       "[2029414812, 888298090, 2441906640]"
      ]
     },
     "execution_count": 38,
     "metadata": {},
     "output_type": "execute_result"
    }
   ],
   "source": [
    "O = T.incenter\n",
    "def func3(Points: list[Point], O: Point):\n",
    "    ...\n",
    "\n",
    "func3([A, B, C], O)"
   ]
  },
  {
   "cell_type": "code",
   "execution_count": 39,
   "metadata": {},
   "outputs": [
    {
     "data": {
      "text/plain": [
       "(2029414812, 888298090, 2441906640)"
      ]
     },
     "execution_count": 39,
     "metadata": {},
     "output_type": "execute_result"
    }
   ],
   "source": [
    "i, j, k"
   ]
  }
 ],
 "metadata": {
  "kernelspec": {
   "display_name": "sage",
   "language": "python",
   "name": "python3"
  },
  "language_info": {
   "codemirror_mode": {
    "name": "ipython",
    "version": 3
   },
   "file_extension": ".py",
   "mimetype": "text/x-python",
   "name": "python",
   "nbconvert_exporter": "python",
   "pygments_lexer": "ipython3",
   "version": "3.10.12"
  }
 },
 "nbformat": 4,
 "nbformat_minor": 2
}
