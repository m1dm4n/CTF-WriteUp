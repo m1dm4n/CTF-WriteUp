{
 "cells": [
  {
   "cell_type": "code",
   "execution_count": 1,
   "metadata": {},
   "outputs": [],
   "source": [
    "import sys\n",
    "import os\n",
    "import numpy as np\n",
    "import random\n",
    "import json\n",
    "import string\n",
    "import itertools\n",
    "import math\n",
    "from Crypto.Util.number import long_to_bytes as ltb, bytes_to_long as btl\n",
    "from pwn import remote, process, log, args, debug, info, log as pwnLog\n",
    "from tqdm import tqdm, trange\n",
    "from matplotlib import pyplot as plt\n",
    "from functools import reduce, cache\n",
    "from base64 import b64encode, b64decode\n",
    "from collections import Counter"
   ]
  },
  {
   "cell_type": "code",
   "execution_count": 2,
   "metadata": {},
   "outputs": [],
   "source": [
    "# Uncomment below line to use sagemath module\n",
    "from sage.all_cmdline import *\n"
   ]
  },
  {
   "cell_type": "code",
   "execution_count": 3,
   "metadata": {},
   "outputs": [
    {
     "name": "stdout",
     "output_type": "stream",
     "text": [
      "[   72  -149  -124  -290  -666  -477  -494  -328  -596  -175  -912  -771\n",
      "  -845 -1180 -1393 -1063 -1258 -1859 -1202 -2080 -1561 -1831 -1393 -2102\n",
      " -1815 -1777 -2377 -1685 -1767 -2203 -1434 -1595 -1301 -1874 -1812 -1783\n",
      " -2626 -2082 -2796 -2115 -3228 -2724 -2574 -2540 -4149 -3077 -3214 -2756\n",
      " -3378 -2116 -2859 -2768 -3657 -2904 -2900 -2533 -3101 -3373 -1691 -3389\n",
      " -2936 -3669 -3161 -3216 -3519 -3159 -3384 -3552 -2478 -4390 -2532 -4403\n",
      " -3953 -4471 -3476 -4548 -3974 -5057 -5122 -4901 -4662 -6077 -5338 -5320\n",
      " -5510 -4564 -4438 -4777 -4435 -4999 -4930 -4215 -5758 -5151 -5041 -5606\n",
      " -4786 -4885 -6228 -6127 -6051 -6510 -5945 -4326 -5726 -5362 -4277 -4077\n",
      " -5272 -5254 -6290 -4577 -4501 -4239 -4568 -4366 -4446 -4664 -4725 -4883\n",
      " -3797 -4694 -4573 -3252 -2711 -4952 -4185 -3317 -3719 -2960 -3185 -4728\n",
      " -2509 -2390 -2977 -2600 -2959 -3361 -3002 -1900 -2234 -1586 -1771 -1605\n",
      " -1200  -851 -2104 -1658 -2459 -1410 -1137  -723 -1942  -979 -2366 -1398\n",
      " -1690 -1168 -1548  -647  -714  -550  -880  -595 -1268  -535  -550  -375\n",
      "     0]\n",
      "[ 1 -3  0 -2 -5  3 -1  3 -4  2 -4  1  1 -4 -3  0 -1 -2 -4  1  2 -2  2 -1\n",
      "  1 -4  3  1  1 -3  3  1  4 -5 -2 -3 -3 -3 -2 -3  4 -5 -2  3 -5  4  1  3\n",
      "  3  2 -2 -5 -1 -5  2 -1 -4  0 -2  0  2 -4 -4  1 -2  1 -5  0 -4 -4  0  0\n",
      " -1 -1 -3 -1  1 -2 -4 -4  2  4 -5 -5  4  0 -1  1 -3 -5  0 -4 -4  0 -2 -2\n",
      "  4  4  1 -5 -5  2  2  0  4  0 -5  2 -5 -2 -4  2  0  2  1 -2 -5  1 -5  0]\n",
      "[ 0 -5  1 -5 -2  1  2  0  2 -4 -2 -5  2 -5  0  4  0  2  2 -5 -5  1  4  4\n",
      " -2 -2  0 -4 -4  0 -5 -3  1 -1  0  4 -5 -5  4  2 -4 -4 -2  1 -1 -3 -1 -1\n",
      "  0  0 -4 -4  0 -5  1 -2  1 -4 -4  2  0 -2  0 -4 -1  2 -5 -1 -5 -2  2  3\n",
      "  3  1  4 -5  3 -2 -5  4 -3 -2 -3 -3 -3 -2 -5  4  1  3 -3  1  1  3 -4  1\n",
      " -1  2 -2  2  1 -4 -2 -1  0 -3 -4  1  1 -4  2 -4  3 -1  3 -5 -2  0 -3  1]\n"
     ]
    }
   ],
   "source": [
    "import pickle\n",
    "\n",
    "with open('ciphertext_and_key.bin', 'rb') as file:\n",
    "    ct, k = pickle.load(file)\n",
    "\n",
    "\n",
    "print(ct)\n",
    "print(k)\n",
    "print(k[::-1])\n"
   ]
  },
  {
   "cell_type": "code",
   "execution_count": 4,
   "metadata": {},
   "outputs": [
    {
     "data": {
      "text/plain": [
       "Polynomial Sequence with 50 Polynomials in 50 Variables"
      ]
     },
     "execution_count": 4,
     "metadata": {},
     "output_type": "execute_result"
    }
   ],
   "source": [
    "k_ = k.tolist()[::-1]\n",
    "B = PolynomialRing(ZZ, [f'x{i}' for i in range(50)])\n",
    "xs = B.gens()\n",
    "x = [0]*119 + list(xs) + [0]*119\n",
    "def pppp(a, b):\n",
    "    return [_a*_b for _a, _b in zip(a, b)]\n",
    "mat = []\n",
    "ctt = ct.tolist()\n",
    "I = (ZZ)\n",
    "for i in range(169):\n",
    "    mat.append(sum(pppp(k_, x[i:i+120])) - ctt[i])\n",
    "\n",
    "G = Ideal(mat).groebner_basis()\n",
    "G"
   ]
  },
  {
   "cell_type": "code",
   "execution_count": 5,
   "metadata": {},
   "outputs": [
    {
     "data": {
      "text/plain": [
       "b'HCMUS-CTF{so_y0uv3_le4rn3d_ab0ut_5i9nal_h4ndl1n9}K'"
      ]
     },
     "execution_count": 5,
     "metadata": {},
     "output_type": "execute_result"
    }
   ],
   "source": [
    "bytes([-z.constant_coefficient() for z in G])"
   ]
  }
 ],
 "metadata": {
  "kernelspec": {
   "display_name": "Python 3",
   "language": "python",
   "name": "python3"
  },
  "language_info": {
   "codemirror_mode": {
    "name": "ipython",
    "version": 3
   },
   "file_extension": ".py",
   "mimetype": "text/x-python",
   "name": "python",
   "nbconvert_exporter": "python",
   "pygments_lexer": "ipython3",
   "version": "3.10.6"
  },
  "orig_nbformat": 4
 },
 "nbformat": 4,
 "nbformat_minor": 2
}
