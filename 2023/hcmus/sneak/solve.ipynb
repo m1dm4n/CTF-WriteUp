{
 "cells": [
  {
   "cell_type": "code",
   "execution_count": 1,
   "metadata": {},
   "outputs": [],
   "source": [
    "import sys\n",
    "import os\n",
    "import numpy as np\n",
    "import random\n",
    "import json\n",
    "import string\n",
    "import itertools\n",
    "import math\n",
    "from Crypto.Util.number import long_to_bytes as ltb, bytes_to_long as btl, inverse\n",
    "from pwn import remote, process, log, args, debug, info, log as pwnLog\n",
    "from tqdm import tqdm, trange\n",
    "from matplotlib import pyplot as plt\n",
    "from functools import reduce, cache\n",
    "from base64 import b64encode, b64decode\n",
    "from collections import Counter"
   ]
  },
  {
   "cell_type": "code",
   "execution_count": 2,
   "metadata": {},
   "outputs": [],
   "source": [
    "# Uncomment below line to use sagemath module\n",
    "from sage.all_cmdline import *\n"
   ]
  },
  {
   "cell_type": "code",
   "execution_count": 3,
   "metadata": {},
   "outputs": [],
   "source": [
    "n = 137695652953436635868173236797773337408441001182675256086214756367750388214098882698624844625677992374523583895607386174643756159168603070583418054134776836804709359451133350283742854338177917816199855370966725059377660312824879861277400624102267119229693994595857701696025366109135127015217981691938713787569\n",
    "leak = 6745414226866166172286907691060333580739794735754141517928503510445368134531623057\n",
    "ct = 60939585660386801273264345336943282595466297131309357817378708003135300231065734017829038358019271553508356563122851120615655640023951268162873980957560729424913748657116293860815453225453706274388027182906741605930908510329721874004000783548599414462355143868922204060850666210978837231187722295496753756990\n"
   ]
  },
  {
   "attachments": {},
   "cell_type": "markdown",
   "metadata": {},
   "source": [
    "Reference: \n",
    "- https://eprint.iacr.org/2020/1506.pdf\n",
    "- https://github.com/jvdsn/crypto-attacks/blob/master/attacks/factorization/coppersmith.py"
   ]
  },
  {
   "cell_type": "code",
   "execution_count": 4,
   "metadata": {},
   "outputs": [
    {
     "name": "stderr",
     "output_type": "stream",
     "text": [
      "(08-May-23 15:01:11) root-INFO: Trying m = 9, t = 9...\n",
      "(08-May-23 15:01:11) root-DEBUG: Generating shifts...\n",
      "(08-May-23 15:01:11) root-DEBUG: Creating a lattice with 18 shifts (order = None, sort_shifts_reverse = False, sort_monomials_reverse = False)...\n",
      "(08-May-23 15:01:11) root-DEBUG: Reducing a 18 x 18 lattice...\n",
      "(08-May-23 15:01:11) root-DEBUG: Reconstructing polynomials (divide_original = True, modulus_bound = True, divide_gcd = True)...\n",
      "(08-May-23 15:01:11) root-DEBUG: Original polynomial divides reconstructed polynomial at row 0, dividing...\n",
      "(08-May-23 15:01:11) root-DEBUG: Original polynomial divides reconstructed polynomial at row 1, dividing...\n",
      "(08-May-23 15:01:11) root-DEBUG: Reconstructed 18 polynomials\n",
      "(08-May-23 15:01:11) root-DEBUG: Using univariate polynomial to find roots...\n"
     ]
    },
    {
     "data": {
      "text/plain": [
       "(11918115327452840353182098808413773161526179795462517390630981598332371960071647247964792629975772037391372830863318764111397518777467149584983329384153671,\n",
       " 11553475459014976853548967468638172498419788021623802974508623943234306723640407777491109179572222419366963601151005006800409206893050401617294252857306439)"
      ]
     },
     "execution_count": 4,
     "metadata": {},
     "output_type": "execute_result"
    }
   ],
   "source": [
    "sys.path.insert(1, '/mnt/d/code/Helper') # git clone it first and change your path\n",
    "from crypto_attacks.factorization.coppersmith import factorize_p\n",
    "from shared.partial_integer import PartialInteger\n",
    "factorize_p(\n",
    "    n, # modulus \n",
    "    PartialInteger.parse_be(f\"{leak:0272b}\" + '?'*240, 2), # f(x) = (leak * 2^240) + x\n",
    "    0.5, # beta for solving equation on f(x) mod n^beta\n",
    "    0.03  # decrease this for higher shift => Bigger lattice dimension => Take more computation power but more accuracy\n",
    ")\n"
   ]
  },
  {
   "attachments": {},
   "cell_type": "markdown",
   "metadata": {},
   "source": [
    "## Decrypting flag"
   ]
  },
  {
   "cell_type": "code",
   "execution_count": 5,
   "metadata": {},
   "outputs": [
    {
     "data": {
      "text/plain": [
       "b'HCMUS-CTF{d0nt_b3_4n_3XhiB1ti0ni5t_0r_y0uLL_g3t_eXp0s3d}'"
      ]
     },
     "execution_count": 5,
     "metadata": {},
     "output_type": "execute_result"
    }
   ],
   "source": [
    "p = 11918115327452840353182098808413773161526179795462517390630981598332371960071647247964792629975772037391372830863318764111397518777467149584983329384153671\n",
    "q = 11553475459014976853548967468638172498419788021623802974508623943234306723640407777491109179572222419366963601151005006800409206893050401617294252857306439\n",
    "\n",
    "ltb(pow(ct, inverse(0x10001, (p-1)*(q-1)), n))"
   ]
  }
 ],
 "metadata": {
  "kernelspec": {
   "display_name": "Python 3",
   "language": "python",
   "name": "python3"
  },
  "language_info": {
   "codemirror_mode": {
    "name": "ipython",
    "version": 3
   },
   "file_extension": ".py",
   "mimetype": "text/x-python",
   "name": "python",
   "nbconvert_exporter": "python",
   "pygments_lexer": "ipython3",
   "version": "3.10.6"
  },
  "orig_nbformat": 4
 },
 "nbformat": 4,
 "nbformat_minor": 2
}
