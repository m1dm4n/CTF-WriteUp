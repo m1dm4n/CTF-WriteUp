{
 "cells": [
  {
   "cell_type": "code",
   "execution_count": 1,
   "metadata": {},
   "outputs": [],
   "source": [
    "import sys\n",
    "import os\n",
    "import numpy as np\n",
    "import random\n",
    "import json\n",
    "import string\n",
    "import itertools\n",
    "import math\n",
    "from Crypto.Util.number import long_to_bytes as ltb, bytes_to_long as btl, inverse\n",
    "from pwn import remote, process, log, args, debug, info, log as pwnLog\n",
    "from tqdm import tqdm, trange\n",
    "from matplotlib import pyplot as plt\n",
    "from functools import reduce, cache\n",
    "from base64 import b64encode, b64decode\n",
    "from collections import Counter"
   ]
  },
  {
   "attachments": {},
   "cell_type": "markdown",
   "metadata": {},
   "source": [
    "## Create a look up table for first 2 bytes"
   ]
  },
  {
   "cell_type": "code",
   "execution_count": 2,
   "metadata": {},
   "outputs": [
    {
     "name": "stderr",
     "output_type": "stream",
     "text": [
      "100%|██████████| 256/256 [00:06<00:00, 38.55it/s]"
     ]
    },
    {
     "name": "stdout",
     "output_type": "stream",
     "text": [
      "init done!\n"
     ]
    },
    {
     "name": "stderr",
     "output_type": "stream",
     "text": [
      "\n"
     ]
    }
   ],
   "source": [
    "with open('output.txt', 'r') as ofile:\n",
    "    mat = eval(ofile.read())\n",
    "\n",
    "mat = np.array(mat)\n",
    "N = 1600\n",
    "T = 1/800\n",
    "x = np.linspace(0, N*T, N)\n",
    "\n",
    "# Man in the Middle techniques for searching sum of 4 elements in an array that equal our target\n",
    "table = {}\n",
    "for a in trange(256):\n",
    "    ass = 0.5 ** 0 * np.sin(a * 2 * np.pi * x)\n",
    "    for b in range(256):\n",
    "        bss = ass + 0.5 * np.sin(b * 2 * np.pi * x)\n",
    "        table[tuple(bss.round(10))] = (a, b)\n",
    "print('init done!')"
   ]
  },
  {
   "attachments": {},
   "cell_type": "markdown",
   "metadata": {},
   "source": [
    "## Bruteforcing other 2 bytes"
   ]
  },
  {
   "cell_type": "code",
   "execution_count": 3,
   "metadata": {},
   "outputs": [
    {
     "name": "stderr",
     "output_type": "stream",
     "text": [
      " 32%|███▏      | 82/256 [00:01<00:03, 55.79it/s]\n",
      " 29%|██▊       | 73/256 [00:01<00:03, 54.31it/s]\n",
      " 62%|██████▏   | 159/256 [00:02<00:01, 56.56it/s]\n",
      " 50%|████▉     | 127/256 [00:02<00:02, 56.63it/s]\n"
     ]
    },
    {
     "data": {
      "text/plain": [
       "[241, 62, 82, 133, 193, 113, 73, 146, 144, 107, 159, 97, 241, 220, 127, 68]"
      ]
     },
     "execution_count": 3,
     "metadata": {},
     "output_type": "execute_result"
    }
   ],
   "source": [
    "key = []\n",
    "for i in range(4):\n",
    "    good = False\n",
    "    for c in trange(256):\n",
    "        ass = 0.5**2 * np.sin(c * 2 * np.pi * x)\n",
    "        for d in range(256):\n",
    "            bss = ass + 0.5**3 * np.sin(d * 2 * np.pi * x)\n",
    "            s = tuple((mat[i]-bss).round(10))\n",
    "            ab = table.get(s, None)\n",
    "            if ab is not None:\n",
    "                a, b = ab\n",
    "                key.extend([a, b, c, d])\n",
    "                good = True\n",
    "                break\n",
    "        if good:\n",
    "            break\n",
    "    else:\n",
    "        raise Exception(\"Wrong!\")\n",
    "key"
   ]
  },
  {
   "attachments": {},
   "cell_type": "markdown",
   "metadata": {},
   "source": [
    "## Decrypting flag"
   ]
  },
  {
   "cell_type": "code",
   "execution_count": 5,
   "metadata": {},
   "outputs": [
    {
     "name": "stdout",
     "output_type": "stream",
     "text": [
      "HCMUS-CTF{https://www.youtube.com/watch?v=nmgFG7PUHfo}\n"
     ]
    }
   ],
   "source": [
    "from Crypto.Cipher import AES\n",
    "from Crypto.Util.Padding import unpad\n",
    "key = bytes(key)\n",
    "with open('ciphertext.bin', 'rb') as f:\n",
    "    iv = f.read(16)\n",
    "    cip = AES.new(key, AES.MODE_CBC, iv=iv)\n",
    "    ct = f.read()\n",
    "    print(unpad(cip.decrypt(ct), 16).decode())"
   ]
  }
 ],
 "metadata": {
  "kernelspec": {
   "display_name": "Python 3",
   "language": "python",
   "name": "python3"
  },
  "language_info": {
   "codemirror_mode": {
    "name": "ipython",
    "version": 3
   },
   "file_extension": ".py",
   "mimetype": "text/x-python",
   "name": "python",
   "nbconvert_exporter": "python",
   "pygments_lexer": "ipython3",
   "version": "3.10.6"
  },
  "orig_nbformat": 4
 },
 "nbformat": 4,
 "nbformat_minor": 2
}
